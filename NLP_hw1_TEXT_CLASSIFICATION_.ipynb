{
 "cells": [
  {
   "cell_type": "markdown",
   "metadata": {
    "id": "_7EJCUUcTdo3"
   },
   "source": [
    "# Pip"
   ]
  },
  {
   "cell_type": "code",
   "execution_count": 1,
   "metadata": {
    "colab": {
     "base_uri": "https://localhost:8080/"
    },
    "id": "7euGZxyFONFe",
    "outputId": "a8a2532f-1c44-46a9-fe9e-7f7df5b432a3"
   },
   "outputs": [
    {
     "name": "stdout",
     "output_type": "stream",
     "text": [
      "\u001b[K     |████████████████████████████████| 2.9 MB 4.1 MB/s \n",
      "\u001b[K     |████████████████████████████████| 596 kB 48.9 MB/s \n",
      "\u001b[K     |████████████████████████████████| 3.3 MB 39.2 MB/s \n",
      "\u001b[K     |████████████████████████████████| 895 kB 30.2 MB/s \n",
      "\u001b[K     |████████████████████████████████| 56 kB 4.6 MB/s \n",
      "\u001b[?25h"
     ]
    }
   ],
   "source": [
    "! pip install transformers --quiet"
   ]
  },
  {
   "cell_type": "markdown",
   "metadata": {
    "id": "2oxyIsU2TiOG"
   },
   "source": [
    "# Import"
   ]
  },
  {
   "cell_type": "code",
   "execution_count": 2,
   "metadata": {
    "id": "mVteVQbcC0fh"
   },
   "outputs": [],
   "source": [
    "import re\n",
    "from warnings import filterwarnings\n",
    "\n",
    "import numpy as np\n",
    "import pandas as pd\n",
    "\n",
    "from pymystem3 import Mystem\n",
    "\n",
    "from sklearn.metrics import f1_score\n",
    "from sklearn.metrics import precision_score\n",
    "from sklearn.metrics import recall_score\n",
    "from sklearn.metrics import roc_auc_score\n",
    "\n",
    "import torch\n",
    "import torch.nn as nn\n",
    "import torch.nn.functional as F\n",
    "\n",
    "from tqdm import tqdm_notebook as tqdm\n",
    "\n",
    "from torchtext.legacy import data\n",
    "\n",
    "from torch.utils.data import Dataset, DataLoader\n",
    "from transformers import AutoTokenizer, AutoModel, AdamW, get_linear_schedule_with_warmup\n",
    "\n",
    "\n",
    "filterwarnings('ignore')"
   ]
  },
  {
   "cell_type": "markdown",
   "metadata": {
    "id": "ird2IX7bTooK"
   },
   "source": [
    "# Data Preprocessing"
   ]
  },
  {
   "cell_type": "code",
   "execution_count": 3,
   "metadata": {
    "id": "ldQbppwf0Y2X"
   },
   "outputs": [],
   "source": [
    "df_train = pd.read_csv('train.tsv', sep='\\t')\n",
    "df_test = pd.read_csv('test.tsv', sep='\\t')\n",
    "df_valid = pd.read_csv('valid.tsv', sep='\\t')\n",
    "\n",
    "df_train_positive_class = df_train[df_train['label'] == 1]\n",
    "df_train_negative_class = df_train[df_train['label'] == 0]\n",
    "\n",
    "num_positive_examples = len(df_train_positive_class)\n",
    "\n",
    "# For training set, we take the same amount of positive and negative examples\n",
    "df_train_negative_class = df_train_negative_class.sample(num_positive_examples)\n",
    "# Concatenating positive and negative examples and shuffling the training set\n",
    "df_train = pd.concat((df_train_positive_class, df_train_negative_class)).sample(frac=1)\n",
    "\n",
    "df_train.reset_index(drop=True, inplace=True)\n",
    "df_test.reset_index(drop=True, inplace=True)\n",
    "df_valid.reset_index(drop=True, inplace=True)"
   ]
  },
  {
   "cell_type": "code",
   "execution_count": 5,
   "metadata": {
    "id": "u5PqIyhCBrea"
   },
   "outputs": [],
   "source": [
    "def my_clean(text):\n",
    "    text = ' '.join(filter(lambda x : x[0] != '@', text.split()))\n",
    "    text = re.sub(r'http\\S+', '', text)\n",
    "    return text\n",
    "\n",
    "def list_replace(search, replacement, text):\n",
    "    '''\n",
    "    Replaces all symbols of text which are present\n",
    "    in the search string with the replacement string.\n",
    "    '''\n",
    "    search = [el for el in search if el in text]\n",
    "    for c in search:\n",
    "        text = text.replace(c, replacement)\n",
    "    return text\n",
    "\n",
    "def clean_text(text):\n",
    "\n",
    "    text = list_replace(\n",
    "        '\\u00AB\\u00BB\\u2039\\u203A\\u201E\\u201A\\u201C\\u201F\\u2018\\u201B\\u201D\\u2019',\n",
    "         '\\u0022',\n",
    "          text\n",
    "    )\n",
    "\n",
    "    text = list_replace(\n",
    "        '\\u2012\\u2013\\u2014\\u2015\\u203E\\u0305\\u00AF',\n",
    "         '\\u2003\\u002D\\u002D\\u2003',\n",
    "          text\n",
    "    )\n",
    "\n",
    "    text = list_replace(\n",
    "        '\\u2010\\u2011',\n",
    "         '\\u002D',\n",
    "          text\n",
    "    )\n",
    "\n",
    "    text = list_replace(\n",
    "        '\\u2000\\u2001\\u2002\\u2004\\u2005\\u2006\\u2007\\u2008\\u2009\\u200A\\u200B\\u202F\\u205F\\u2060\\u3000',\n",
    "        '\\u2002',\n",
    "        text\n",
    "    )\n",
    "\n",
    "    text = re.sub('\\u2003\\u2003', '\\u2003', text)\n",
    "    text = re.sub('\\t\\t', '\\t', text)\n",
    "\n",
    "    text = list_replace(\n",
    "        '\\u02CC\\u0307\\u0323\\u2022\\u2023\\u2043\\u204C\\u204D\\u2219\\u25E6\\u00B7\\u00D7\\u22C5\\u2219\\u2062',\n",
    "        '.',\n",
    "         text\n",
    "    )\n",
    "\n",
    "    text = list_replace('\\u2217', '\\u002A', text)\n",
    "\n",
    "    text = list_replace('…', '...', text)\n",
    "\n",
    "    text = list_replace('\\u00C4', 'A', text)\n",
    "    text = list_replace('\\u00E4', 'a', text)\n",
    "    text = list_replace('\\u00CB', 'E', text)\n",
    "    text = list_replace('\\u00EB', 'e', text)\n",
    "    text = list_replace('\\u1E26', 'H', text)\n",
    "    text = list_replace('\\u1E27', 'h', text)\n",
    "    text = list_replace('\\u00CF', 'I', text)\n",
    "    text = list_replace('\\u00EF', 'i', text)\n",
    "    text = list_replace('\\u00D6', 'O', text)\n",
    "    text = list_replace('\\u00F6', 'o', text)\n",
    "    text = list_replace('\\u00DC', 'U', text)\n",
    "    text = list_replace('\\u00FC', 'u', text)\n",
    "    text = list_replace('\\u0178', 'Y', text)\n",
    "    text = list_replace('\\u00FF', 'y', text)\n",
    "    text = list_replace('\\u00DF', 's', text)\n",
    "    text = list_replace('\\u1E9E', 'S', text)\n",
    "    # Removing punctuation\n",
    "    text = list_replace(',.[]{}()=+-−*&^%$#@!~;:§/\\|\\?\\'\\n', ' ', text)\n",
    "    # Replacing all numbers with masks\n",
    "    text = list_replace('0123456789', 'x', text)\n",
    "\n",
    "    currencies = list(\n",
    "            '\\u20BD\\u0024\\u00A3\\u20A4\\u20AC\\u20AA\\u2133\\u20BE\\u00A2\\u058F\\u0BF9\\u20BC\\u20A1\\u20A0\\u20B4\\u20A7\\u20B0\\u20BF\\u20A3\\u060B\\u0E3F\\u20A9\\u20B4\\u20B2\\u0192\\u20AB\\u00A5\\u20AD\\u20A1\\u20BA\\u20A6\\u20B1\\uFDFC\\u17DB\\u20B9\\u20A8\\u20B5\\u09F3\\u20B8\\u20AE\\u0192'\n",
    "    )\n",
    "\n",
    "    alphabet = list(\n",
    "        '\\t\\r абвгдеёзжийклмнопрстуфхцчшщьыъэюяАБВГДЕЁЗЖИЙКЛМНОПРСТУФХЦЧШЩЬЫЪЭЮЯabcdefghijklmnopqrstuvwxyzABCDEFGHIJKLMNOPQRSTUVWXYZ '\n",
    "    )\n",
    "\n",
    "    allowed = set(currencies + alphabet)\n",
    "\n",
    "    cleaned_text = [sym for sym in text if sym in allowed]\n",
    "    cleaned_text = ''.join(cleaned_text)\n",
    "\n",
    "    return cleaned_text "
   ]
  },
  {
   "cell_type": "code",
   "execution_count": 6,
   "metadata": {
    "id": "OrC4dGwMBso-"
   },
   "outputs": [],
   "source": [
    "# Extracting tweet texts\n",
    "train_tweet_texts = df_train.tweet.values\n",
    "test_tweet_texts = df_test.tweet.values\n",
    "valid_tweet_texts = df_valid.tweet.values\n",
    "\n",
    "# Extracting tweet labels\n",
    "train_labels = df_train['label'].values\n",
    "valid_labels = df_valid['label'].values\n",
    "\n",
    "# Preprocessing training tweets\n",
    "cleaned_train_texts = []\n",
    "for tweet_text in train_tweet_texts:\n",
    "    my_cleaned_text = my_clean(tweet_text)\n",
    "    cleaned_text = clean_text(my_cleaned_text).lower()\n",
    "    split_cleaned_text = cleaned_text.split()\n",
    "    cleaned_train_texts.append(' '.join(split_cleaned_text))\n",
    "    \n",
    "# Preprocessing test tweets\n",
    "cleaned_test_texts = []\n",
    "for tweet_text in test_tweet_texts:\n",
    "    my_cleaned_text = my_clean(tweet_text)\n",
    "    cleaned_text = clean_text(my_cleaned_text)\n",
    "    cleaned_test_texts.append(' '.join(cleaned_text.split()))\n",
    "    \n",
    "# Preprocessing validation tweets\n",
    "cleaned_valid_texts = []\n",
    "for tweet_text in valid_tweet_texts:\n",
    "    my_cleaned_text = my_clean(tweet_text)\n",
    "    cleaned_text = clean_text(my_cleaned_text)\n",
    "    cleaned_valid_texts.append(' '.join(cleaned_text.split()))"
   ]
  },
  {
   "cell_type": "code",
   "execution_count": 7,
   "metadata": {
    "id": "mJZvbzEyY52t"
   },
   "outputs": [],
   "source": [
    "df_train['clean_text'] = cleaned_train_texts\n",
    "df_test['clean_text'] = cleaned_test_texts\n",
    "df_valid['clean_text'] = cleaned_valid_texts"
   ]
  },
  {
   "cell_type": "markdown",
   "metadata": {
    "id": "YhBs9TYGxaQo"
   },
   "source": [
    "## Lemmatization"
   ]
  },
  {
   "cell_type": "code",
   "execution_count": 8,
   "metadata": {
    "id": "HqFFfSa4_bkU"
   },
   "outputs": [],
   "source": [
    "def lemmatize_all(texts):\n",
    "    res_texts = []\n",
    "    mystem_analyzer = Mystem(entire_input=False)\n",
    "    for text in texts:\n",
    "        lem_list_text = mystem_analyzer.lemmatize(text)\n",
    "        lem_text = ' '.join(lem_list_text)\n",
    "        res_texts.append(lem_text)\n",
    "    return res_texts\n",
    "\n",
    "df_train['clean_text'] = lemmatize_all(cleaned_train_texts)\n",
    "df_test['clean_text'] = lemmatize_all(cleaned_test_texts)\n",
    "df_valid['clean_text'] = lemmatize_all(cleaned_valid_texts)"
   ]
  },
  {
   "cell_type": "markdown",
   "metadata": {
    "id": "Rr3jcCfdUGhB"
   },
   "source": [
    "# Dataset"
   ]
  },
  {
   "cell_type": "code",
   "execution_count": 9,
   "metadata": {
    "id": "K1zViF-KE7xM"
   },
   "outputs": [],
   "source": [
    "class TwitterDataset(Dataset):\n",
    "    def __init__(self, texts, labels, tokenizer, maxlen):\n",
    "        self.texts = texts\n",
    "        self.labels = labels\n",
    "        self.tokenizer = tokenizer\n",
    "        self.maxlen = maxlen\n",
    "\n",
    "    def __len__(self):\n",
    "        return len(self.texts)\n",
    "\n",
    "    def __getitem__(self, index):\n",
    "        text = str(self.texts[index])\n",
    "        tensor_label = torch.tensor(self.labels[index], dtype=torch.long)\n",
    "\n",
    "        encode = self.tokenizer.encode_plus(text, add_special_tokens=True,\n",
    "                                            max_length=self.maxlen,\n",
    "                                            return_token_type_ids=False,\n",
    "                                            pad_to_max_length=True,\n",
    "                                            return_attention_mask=True,\n",
    "                                            return_tensors='pt',\n",
    "                                            truncation=True)\n",
    "\n",
    "        return {'text': text,\n",
    "                'label': tensor_label,\n",
    "                'input_ids' : encode['input_ids'].flatten(),\n",
    "                'targets' : tensor_label,\n",
    "                'attention_mask': encode['attention_mask'].flatten()}"
   ]
  },
  {
   "cell_type": "code",
   "execution_count": 10,
   "metadata": {
    "id": "wWX5oXM8y-_1"
   },
   "outputs": [],
   "source": [
    "RANDOM_SEED = 0\n",
    "np.random.seed(RANDOM_SEED)\n",
    "torch.manual_seed(RANDOM_SEED)\n",
    "device = torch.device(\"cuda:0\" if torch.cuda.is_available() else \"cpu\")"
   ]
  },
  {
   "cell_type": "code",
   "execution_count": 12,
   "metadata": {
    "id": "XvaCrg1mFFqN"
   },
   "outputs": [],
   "source": [
    "def create_data_loader(df, tokenizer, batch_size, max_len):\n",
    "    if 'label' not in df.columns:\n",
    "        labels = [0] * len(df)\n",
    "    else:\n",
    "        labels = df['label'].values\n",
    "\n",
    "    ds = TwitterDataset(texts=df['clean_text'].values,\n",
    "                        labels=labels,\n",
    "                        tokenizer=tokenizer,\n",
    "                        max_len=max_len)\n",
    "    \n",
    "    return DataLoader(ds, batch_size=batch_size)"
   ]
  },
  {
   "cell_type": "code",
   "execution_count": 13,
   "metadata": {
    "id": "dAOAMEJxwmd9"
   },
   "outputs": [],
   "source": [
    "PRE_TRAINED_MODEL_NAME = 'cimm-kzn/enrudr-bert'"
   ]
  },
  {
   "cell_type": "code",
   "execution_count": 14,
   "metadata": {
    "colab": {
     "base_uri": "https://localhost:8080/",
     "height": 145,
     "referenced_widgets": [
      "83e7b0ce8fa74e72b0ddf0671fcc2744",
      "41656dabb218441495243b67dd9c0e7d",
      "d0a5133621bf43f987ab938a19cf3531",
      "07e2faafdf4e4a2d9c151fb969e9b9b6",
      "33cb445664ce4e79a533ff94142ecb48",
      "3ac5cf98c1dd4a2a8c5cdc1152533fdb",
      "e9ebba8472a34d42b92a126a0a1e93cf",
      "a2ccc12aca9d4b66b3f6b0c08de9b24d",
      "96c4e1d99b1943a399becefcf3e4d2bc",
      "4d609396aeab4c398805015d0b3e8f24",
      "4e07877e4dcd48d98c65226ac868f9ee"
     ]
    },
    "id": "uhCAYmaNEyl7",
    "outputId": "5ee40211-9bd0-4cd7-f2d6-2575f9f1646c"
   },
   "outputs": [
    {
     "data": {
      "application/vnd.jupyter.widget-view+json": {
       "model_id": "83e7b0ce8fa74e72b0ddf0671fcc2744",
       "version_major": 2,
       "version_minor": 0
      },
      "text/plain": [
       "Downloading:   0%|          | 0.00/2.00 [00:00<?, ?B/s]"
      ]
     },
     "metadata": {},
     "output_type": "display_data"
    },
    {
     "data": {
      "application/vnd.jupyter.widget-view+json": {
       "model_id": "5f0f3b15fccc43ae813297b00bcaf28a",
       "version_major": 2,
       "version_minor": 0
      },
      "text/plain": [
       "Downloading:   0%|          | 0.00/521 [00:00<?, ?B/s]"
      ]
     },
     "metadata": {},
     "output_type": "display_data"
    },
    {
     "data": {
      "application/vnd.jupyter.widget-view+json": {
       "model_id": "6042a6ca70c3453290e46ef64ad515a8",
       "version_major": 2,
       "version_minor": 0
      },
      "text/plain": [
       "Downloading:   0%|          | 0.00/972k [00:00<?, ?B/s]"
      ]
     },
     "metadata": {},
     "output_type": "display_data"
    },
    {
     "data": {
      "application/vnd.jupyter.widget-view+json": {
       "model_id": "2027c68a21b24c9692617aa17ba3a741",
       "version_major": 2,
       "version_minor": 0
      },
      "text/plain": [
       "Downloading:   0%|          | 0.00/112 [00:00<?, ?B/s]"
      ]
     },
     "metadata": {},
     "output_type": "display_data"
    }
   ],
   "source": [
    "tokenizer = AutoTokenizer.from_pretrained(PRE_TRAINED_MODEL_NAME)\n",
    "\n",
    "train_tokenized = [tokenizer.encode(x, add_special_tokens=True) for x in df_train['clean_text'].values]\n",
    "valid_tokenized = [tokenizer.encode(x, add_special_tokens=True) for x in df_valid['clean_text'].values]\n",
    "test_tokenized = [tokenizer.encode(x, add_special_tokens=True) for x in df_test['clean_text'].values]\n",
    "\n",
    "train_max_len = max(map(len, train_tokenized))\n",
    "valid_max_len = max(map(len, valid_tokenized))\n",
    "test_max_len = max(map(len, valid_tokenized))"
   ]
  },
  {
   "cell_type": "code",
   "execution_count": 15,
   "metadata": {
    "id": "g6dzx_As04bD"
   },
   "outputs": [],
   "source": [
    "EPOCHS = 2\n",
    "L_RATE = 2e-5\n",
    "BATCH_SIZE = 32"
   ]
  },
  {
   "cell_type": "code",
   "execution_count": 16,
   "metadata": {
    "id": "Cv6MHR4uQhcE"
   },
   "outputs": [],
   "source": [
    "def create_data_loader(df, tokenizer, batch_size, max_len):\n",
    "    if 'label' not in df.columns:\n",
    "        labels = [0] * len(df)\n",
    "    else:\n",
    "        labels = df['label'].values\n",
    "\n",
    "    ds = TwitterDataset(texts=df['clean_text'].values,\n",
    "                        labels=labels,\n",
    "                        tokenizer=tokenizer,\n",
    "                        maxlen=max_len)\n",
    "    \n",
    "    return DataLoader(ds, batch_size=batch_size)\n",
    "\n",
    "\n",
    "\n",
    "train_data_loader = create_data_loader(df_train, tokenizer, BATCH_SIZE, train_max_len)\n",
    "valid_data_loader = create_data_loader(df_valid, tokenizer, BATCH_SIZE, valid_max_len)\n",
    "test_data_loader = create_data_loader(df_test, tokenizer, BATCH_SIZE, test_max_len)"
   ]
  },
  {
   "cell_type": "markdown",
   "metadata": {
    "id": "wcM3OuXJUScT"
   },
   "source": [
    "# Model"
   ]
  },
  {
   "cell_type": "code",
   "execution_count": 17,
   "metadata": {
    "id": "ibRL0395TUqg"
   },
   "outputs": [],
   "source": [
    "class TwitterClassifier(nn.Module):\n",
    "\n",
    "    def __init__(self, n_classes):\n",
    "        super(TwitterClassifier, self).__init__()\n",
    "        self.bert = AutoModel.from_pretrained(PRE_TRAINED_MODEL_NAME)\n",
    "        self.drop = nn.Dropout(p=0.3)\n",
    "        self.out = nn.Linear(self.bert.config.hidden_size, n_classes)\n",
    "  \n",
    "    def forward(self, input_ids, attention_mask):\n",
    "        outputs = self.bert(input_ids=input_ids, attention_mask=attention_mask)\n",
    "        output = self.drop(outputs[\"pooler_output\"])\n",
    "        return self.out(output)"
   ]
  },
  {
   "cell_type": "code",
   "execution_count": 18,
   "metadata": {
    "colab": {
     "base_uri": "https://localhost:8080/",
     "height": 120,
     "referenced_widgets": [
      "3338a7d6a7e944f5ad49054ad541e224",
      "342d154a017e4134a2669b4c7ded6207",
      "1aa550a9d77a4cb2b7af15973de253ff",
      "bc0362ed4c6d49ca9ae109f9e0f65c06",
      "21a0110cbc1f4ffe8a3b7d661c2b62e3",
      "2f344c323c5743d08ac0270653abf9a7",
      "9b406939f96d4f9a930460938e6cb843",
      "f2ba81fcf8234586a68e608de1213634",
      "0b220a5fc65440ac9c310869b528e968",
      "96bea9b887584a9082a62662ef754a96",
      "d9876d81deb144deb7227081aedf8ee3"
     ]
    },
    "id": "kkZ4Nna32JnY",
    "outputId": "768257ff-8850-43a9-98a2-cdfb45f0dfd8"
   },
   "outputs": [
    {
     "data": {
      "application/vnd.jupyter.widget-view+json": {
       "model_id": "3338a7d6a7e944f5ad49054ad541e224",
       "version_major": 2,
       "version_minor": 0
      },
      "text/plain": [
       "Downloading:   0%|          | 0.00/681M [00:00<?, ?B/s]"
      ]
     },
     "metadata": {},
     "output_type": "display_data"
    },
    {
     "name": "stderr",
     "output_type": "stream",
     "text": [
      "Some weights of the model checkpoint at cimm-kzn/enrudr-bert were not used when initializing BertModel: ['cls.seq_relationship.weight', 'cls.predictions.bias', 'cls.predictions.transform.LayerNorm.weight', 'cls.predictions.transform.dense.bias', 'cls.predictions.transform.LayerNorm.bias', 'cls.seq_relationship.bias', 'cls.predictions.decoder.bias', 'cls.predictions.transform.dense.weight', 'cls.predictions.decoder.weight']\n",
      "- This IS expected if you are initializing BertModel from the checkpoint of a model trained on another task or with another architecture (e.g. initializing a BertForSequenceClassification model from a BertForPreTraining model).\n",
      "- This IS NOT expected if you are initializing BertModel from the checkpoint of a model that you expect to be exactly identical (initializing a BertForSequenceClassification model from a BertForSequenceClassification model).\n"
     ]
    }
   ],
   "source": [
    "n_classes = 2\n",
    "device = torch.device('cuda' if torch.cuda.is_available() else 'cpu')\n",
    "model = TwitterClassifier(n_classes)\n",
    "model = model.to(device)"
   ]
  },
  {
   "cell_type": "code",
   "execution_count": 19,
   "metadata": {
    "id": "Emutrd7RTUuy"
   },
   "outputs": [],
   "source": [
    "optimizer = AdamW(model.parameters(), lr=L_RATE, correct_bias=False)\n",
    "total_steps = len(train_data_loader) * EPOCHS\n",
    "\n",
    "scheduler = get_linear_schedule_with_warmup(optimizer,\n",
    "                                            num_warmup_steps=0,\n",
    "                                            num_training_steps=total_steps)\n",
    "\n",
    "loss_fn = nn.CrossEntropyLoss().to(device)"
   ]
  },
  {
   "cell_type": "code",
   "execution_count": 20,
   "metadata": {
    "id": "Fdf4UPa4TUzH"
   },
   "outputs": [],
   "source": [
    "def train_epoch(model, data_loader, loss_fn, optimizer, device, scheduler, n_examples):\n",
    "    model = model.train()\n",
    "\n",
    "    losses = []\n",
    "    correct_predictions = 0\n",
    "  \n",
    "    for d in data_loader:\n",
    "        input_ids = d[\"input_ids\"].to(device)\n",
    "        attention_mask = d[\"attention_mask\"].to(device)\n",
    "        targets = d[\"targets\"].to(device)\n",
    "\n",
    "        outputs = model(input_ids=input_ids, attention_mask=attention_mask)\n",
    "\n",
    "        _, preds = torch.max(outputs, dim=1)\n",
    "        loss = loss_fn(outputs, targets)\n",
    "\n",
    "        correct_predictions += torch.sum(preds == targets)\n",
    "        losses.append(loss.item())\n",
    "\n",
    "        loss.backward()\n",
    "        nn.utils.clip_grad_norm_(model.parameters(), max_norm=1.0)\n",
    "        optimizer.step()\n",
    "        scheduler.step()\n",
    "        optimizer.zero_grad()\n",
    "\n",
    "    return correct_predictions.double() / n_examples, np.mean(losses)"
   ]
  },
  {
   "cell_type": "code",
   "execution_count": 21,
   "metadata": {
    "id": "o3V8oRJoTU3S"
   },
   "outputs": [],
   "source": [
    "def eval_model(model, data_loader, loss_fn, device, n_examples):\n",
    "    model = model.eval()\n",
    "\n",
    "    losses = []\n",
    "    correct_predictions = 0\n",
    "\n",
    "    with torch.no_grad():\n",
    "        for d in data_loader:\n",
    "            input_ids = d[\"input_ids\"].to(device)\n",
    "            attention_mask = d[\"attention_mask\"].to(device)\n",
    "            targets = d[\"targets\"].to(device)\n",
    "\n",
    "            outputs = model(input_ids=input_ids, attention_mask=attention_mask)\n",
    "            _, preds = torch.max(outputs, dim=1)\n",
    "\n",
    "            loss = loss_fn(outputs, targets)\n",
    "\n",
    "            correct_predictions += torch.sum(preds == targets)\n",
    "            losses.append(loss.item())\n",
    "\n",
    "    return correct_predictions.double() / n_examples, np.mean(losses)"
   ]
  },
  {
   "cell_type": "markdown",
   "metadata": {
    "id": "odyjFNqi0sjb"
   },
   "source": [
    "# Train"
   ]
  },
  {
   "cell_type": "code",
   "execution_count": 22,
   "metadata": {
    "colab": {
     "base_uri": "https://localhost:8080/"
    },
    "id": "sq0BnRouTU7W",
    "outputId": "3b18c33c-906c-40c7-bd7f-369ca34b0784"
   },
   "outputs": [
    {
     "name": "stdout",
     "output_type": "stream",
     "text": [
      "Epoch  1/ 2\n",
      "----------\n",
      "Train loss 0.5308 accuracy 0.7380\n",
      "Valid loss 0.5277 accuracy 0.7746\n",
      "Epoch  2/ 2\n",
      "----------\n",
      "Train loss 0.2373 accuracy 0.9049\n",
      "Valid loss 0.6325 accuracy 0.7924\n"
     ]
    }
   ],
   "source": [
    "for epoch in range(EPOCHS):\n",
    "    print(f'Epoch {epoch + 1:2d}/{EPOCHS:2d}')\n",
    "    print('-' * 10)\n",
    "\n",
    "    train_acc, train_loss = train_epoch(model, train_data_loader, loss_fn, optimizer, device, scheduler, len(df_train))\n",
    "    valid_acc, valid_loss = eval_model(model, valid_data_loader, loss_fn, device, len(df_valid))\n",
    "    \n",
    "    print(f'Train loss {train_loss:.4f} accuracy {train_acc:.4f}')\n",
    "    print(f'Valid loss {valid_loss:.4f} accuracy {valid_acc:.4f}')"
   ]
  },
  {
   "cell_type": "code",
   "execution_count": 38,
   "metadata": {
    "id": "OzcbrfRaTU_P"
   },
   "outputs": [],
   "source": [
    "test_acc, _ = eval_model(\n",
    "  model,\n",
    "  test_data_loader,\n",
    "  loss_fn,\n",
    "  device,\n",
    "  len(df_test)\n",
    ")\n",
    "\n",
    "test_acc.item()"
   ]
  },
  {
   "cell_type": "markdown",
   "metadata": {
    "id": "vaoZn3K12wNX"
   },
   "source": [
    "# Prediction"
   ]
  },
  {
   "cell_type": "code",
   "execution_count": 23,
   "metadata": {
    "id": "zS9wzineTVDJ"
   },
   "outputs": [],
   "source": [
    "def get_predictions(model, data_loader):\n",
    "    model = model.eval()\n",
    "    \n",
    "    predictions = []\n",
    "    prediction_probs = []\n",
    "    real_values = []\n",
    "\n",
    "    with torch.no_grad():\n",
    "        for d in data_loader:\n",
    "\n",
    "            input_ids = d[\"input_ids\"].to(device)\n",
    "            attention_mask = d[\"attention_mask\"].to(device)\n",
    "            targets = d[\"targets\"].to(device)\n",
    "\n",
    "            outputs = model(\n",
    "                input_ids=input_ids,\n",
    "                attention_mask=attention_mask\n",
    "            )\n",
    "            _, preds = torch.max(outputs, dim=1)\n",
    "\n",
    "            probs = F.softmax(outputs, dim=1)\n",
    "\n",
    "            predictions.extend(preds)\n",
    "            prediction_probs.extend(probs)\n",
    "\n",
    "    predictions = torch.stack(predictions).cpu()\n",
    "    prediction_probs = torch.stack(prediction_probs).cpu()\n",
    "\n",
    "    return predictions, prediction_probs"
   ]
  },
  {
   "cell_type": "code",
   "execution_count": 24,
   "metadata": {
    "id": "7PzjzeYLTVHQ"
   },
   "outputs": [],
   "source": [
    "predicted_valid_labels, prediction_probs_valid = get_predictions(model, valid_data_loader)\n",
    "predicted_test_labels, prediction_probs_test = get_predictions(model, test_data_loader)"
   ]
  },
  {
   "cell_type": "code",
   "execution_count": 25,
   "metadata": {
    "colab": {
     "base_uri": "https://localhost:8080/"
    },
    "id": "Dtf82mYcPpNn",
    "outputId": "935b67da-cc05-45ee-8149-02a10fbacb77"
   },
   "outputs": [
    {
     "name": "stdout",
     "output_type": "stream",
     "text": [
      "Validation dataset\n",
      "Precision: 0.2799\n",
      "Recall: 0.8763\n",
      "F-measure: 0.4243\n",
      "ROC_AUC: 0.8969\n"
     ]
    }
   ],
   "source": [
    "valid_precision = precision_score(valid_labels, predicted_valid_labels)\n",
    "valid_recall = recall_score(valid_labels, predicted_valid_labels)\n",
    "valid_f_measure = f1_score(valid_labels, predicted_valid_labels)\n",
    "valid_roc_auc = roc_auc_score(valid_labels, [x[1] for x in prediction_probs_valid])\n",
    "\n",
    "print('Validation dataset')\n",
    "\n",
    "print(f'Precision: {valid_precision:.4f}')\n",
    "print(f'Recall: {valid_recall:.4f}')\n",
    "print(f'F-measure: {valid_f_measure:.4f}')\n",
    "print(f'ROC_AUC: {valid_roc_auc:.4f}')"
   ]
  },
  {
   "cell_type": "code",
   "execution_count": 90,
   "metadata": {
    "colab": {
     "base_uri": "https://localhost:8080/"
    },
    "id": "8Tx1v7nITVLR",
    "outputId": "537dbbd7-eb30-47bd-8982-370f4f7f645c"
   },
   "outputs": [
    {
     "name": "stdout",
     "output_type": "stream",
     "text": [
      "Validation dataset\n",
      "Precision: 0.2830\n",
      "Recall: 0.8395\n",
      "F-measure: 0.4233\n",
      "ROC_AUC: 0.8951\n"
     ]
    }
   ],
   "source": [
    "valid_precision = precision_score(valid_labels, predicted_valid_labels)\n",
    "valid_recall = recall_score(valid_labels, predicted_valid_labels)\n",
    "valid_f_measure = f1_score(valid_labels, predicted_valid_labels)\n",
    "valid_roc_auc = roc_auc_score(valid_labels, [x[1] for x in prediction_probs_valid])\n",
    "\n",
    "print('Validation dataset')\n",
    "\n",
    "print(f'Precision: {valid_precision:.4f}')\n",
    "print(f'Recall: {valid_recall:.4f}')\n",
    "print(f'F-measure: {valid_f_measure:.4f}')\n",
    "print(f'ROC_AUC: {valid_roc_auc:.4f}')"
   ]
  },
  {
   "cell_type": "code",
   "execution_count": 26,
   "metadata": {
    "id": "hoKwt42bPW_a"
   },
   "outputs": [],
   "source": [
    "df_submit = pd.DataFrame(columns=['tweet_id', 'label'])\n",
    "\n",
    "df_submit['tweet_id'] = df_test['tweet_id'].values\n",
    "df_submit['label'] = [float(x[1]) for x in prediction_probs_test]\n",
    "\n",
    "df_submit.to_csv('solution.csv', sep=',', index=False)"
   ]
  },
  {
   "cell_type": "code",
   "execution_count": null,
   "metadata": {
    "id": "XYrYIDVyRfGX"
   },
   "outputs": [],
   "source": []
  }
 ],
 "metadata": {
  "accelerator": "GPU",
  "colab": {
   "collapsed_sections": [
    "_7EJCUUcTdo3"
   ],
   "name": "NLP_hw1_TEXT_CLASSIFICATION .ipynb",
   "provenance": []
  },
  "kernelspec": {
   "display_name": "Python 3 (ipykernel)",
   "language": "python",
   "name": "python3"
  },
  "language_info": {
   "codemirror_mode": {
    "name": "ipython",
    "version": 3
   },
   "file_extension": ".py",
   "mimetype": "text/x-python",
   "name": "python",
   "nbconvert_exporter": "python",
   "pygments_lexer": "ipython3",
   "version": "3.9.7"
  },
  "widgets": {
   "application/vnd.jupyter.widget-state+json": {
    "07e2faafdf4e4a2d9c151fb969e9b9b6": {
     "model_module": "@jupyter-widgets/controls",
     "model_module_version": "1.5.0",
     "model_name": "FloatProgressModel",
     "state": {
      "_dom_classes": [],
      "_model_module": "@jupyter-widgets/controls",
      "_model_module_version": "1.5.0",
      "_model_name": "FloatProgressModel",
      "_view_count": null,
      "_view_module": "@jupyter-widgets/controls",
      "_view_module_version": "1.5.0",
      "_view_name": "ProgressView",
      "bar_style": "success",
      "description": "",
      "description_tooltip": null,
      "layout": "IPY_MODEL_96c4e1d99b1943a399becefcf3e4d2bc",
      "max": 2,
      "min": 0,
      "orientation": "horizontal",
      "style": "IPY_MODEL_a2ccc12aca9d4b66b3f6b0c08de9b24d",
      "value": 2
     }
    },
    "0b220a5fc65440ac9c310869b528e968": {
     "model_module": "@jupyter-widgets/base",
     "model_module_version": "1.2.0",
     "model_name": "LayoutModel",
     "state": {
      "_model_module": "@jupyter-widgets/base",
      "_model_module_version": "1.2.0",
      "_model_name": "LayoutModel",
      "_view_count": null,
      "_view_module": "@jupyter-widgets/base",
      "_view_module_version": "1.2.0",
      "_view_name": "LayoutView",
      "align_content": null,
      "align_items": null,
      "align_self": null,
      "border": null,
      "bottom": null,
      "display": null,
      "flex": null,
      "flex_flow": null,
      "grid_area": null,
      "grid_auto_columns": null,
      "grid_auto_flow": null,
      "grid_auto_rows": null,
      "grid_column": null,
      "grid_gap": null,
      "grid_row": null,
      "grid_template_areas": null,
      "grid_template_columns": null,
      "grid_template_rows": null,
      "height": null,
      "justify_content": null,
      "justify_items": null,
      "left": null,
      "margin": null,
      "max_height": null,
      "max_width": null,
      "min_height": null,
      "min_width": null,
      "object_fit": null,
      "object_position": null,
      "order": null,
      "overflow": null,
      "overflow_x": null,
      "overflow_y": null,
      "padding": null,
      "right": null,
      "top": null,
      "visibility": null,
      "width": null
     }
    },
    "1aa550a9d77a4cb2b7af15973de253ff": {
     "model_module": "@jupyter-widgets/controls",
     "model_module_version": "1.5.0",
     "model_name": "HTMLModel",
     "state": {
      "_dom_classes": [],
      "_model_module": "@jupyter-widgets/controls",
      "_model_module_version": "1.5.0",
      "_model_name": "HTMLModel",
      "_view_count": null,
      "_view_module": "@jupyter-widgets/controls",
      "_view_module_version": "1.5.0",
      "_view_name": "HTMLView",
      "description": "",
      "description_tooltip": null,
      "layout": "IPY_MODEL_9b406939f96d4f9a930460938e6cb843",
      "placeholder": "​",
      "style": "IPY_MODEL_2f344c323c5743d08ac0270653abf9a7",
      "value": "Downloading: 100%"
     }
    },
    "21a0110cbc1f4ffe8a3b7d661c2b62e3": {
     "model_module": "@jupyter-widgets/controls",
     "model_module_version": "1.5.0",
     "model_name": "HTMLModel",
     "state": {
      "_dom_classes": [],
      "_model_module": "@jupyter-widgets/controls",
      "_model_module_version": "1.5.0",
      "_model_name": "HTMLModel",
      "_view_count": null,
      "_view_module": "@jupyter-widgets/controls",
      "_view_module_version": "1.5.0",
      "_view_name": "HTMLView",
      "description": "",
      "description_tooltip": null,
      "layout": "IPY_MODEL_d9876d81deb144deb7227081aedf8ee3",
      "placeholder": "​",
      "style": "IPY_MODEL_96bea9b887584a9082a62662ef754a96",
      "value": " 681M/681M [00:22&lt;00:00, 31.4MB/s]"
     }
    },
    "2f344c323c5743d08ac0270653abf9a7": {
     "model_module": "@jupyter-widgets/controls",
     "model_module_version": "1.5.0",
     "model_name": "DescriptionStyleModel",
     "state": {
      "_model_module": "@jupyter-widgets/controls",
      "_model_module_version": "1.5.0",
      "_model_name": "DescriptionStyleModel",
      "_view_count": null,
      "_view_module": "@jupyter-widgets/base",
      "_view_module_version": "1.2.0",
      "_view_name": "StyleView",
      "description_width": ""
     }
    },
    "3338a7d6a7e944f5ad49054ad541e224": {
     "model_module": "@jupyter-widgets/controls",
     "model_module_version": "1.5.0",
     "model_name": "HBoxModel",
     "state": {
      "_dom_classes": [],
      "_model_module": "@jupyter-widgets/controls",
      "_model_module_version": "1.5.0",
      "_model_name": "HBoxModel",
      "_view_count": null,
      "_view_module": "@jupyter-widgets/controls",
      "_view_module_version": "1.5.0",
      "_view_name": "HBoxView",
      "box_style": "",
      "children": [
       "IPY_MODEL_1aa550a9d77a4cb2b7af15973de253ff",
       "IPY_MODEL_bc0362ed4c6d49ca9ae109f9e0f65c06",
       "IPY_MODEL_21a0110cbc1f4ffe8a3b7d661c2b62e3"
      ],
      "layout": "IPY_MODEL_342d154a017e4134a2669b4c7ded6207"
     }
    },
    "33cb445664ce4e79a533ff94142ecb48": {
     "model_module": "@jupyter-widgets/controls",
     "model_module_version": "1.5.0",
     "model_name": "HTMLModel",
     "state": {
      "_dom_classes": [],
      "_model_module": "@jupyter-widgets/controls",
      "_model_module_version": "1.5.0",
      "_model_name": "HTMLModel",
      "_view_count": null,
      "_view_module": "@jupyter-widgets/controls",
      "_view_module_version": "1.5.0",
      "_view_name": "HTMLView",
      "description": "",
      "description_tooltip": null,
      "layout": "IPY_MODEL_4e07877e4dcd48d98c65226ac868f9ee",
      "placeholder": "​",
      "style": "IPY_MODEL_4d609396aeab4c398805015d0b3e8f24",
      "value": " 2.00/2.00 [00:00&lt;00:00, 45.3B/s]"
     }
    },
    "342d154a017e4134a2669b4c7ded6207": {
     "model_module": "@jupyter-widgets/base",
     "model_module_version": "1.2.0",
     "model_name": "LayoutModel",
     "state": {
      "_model_module": "@jupyter-widgets/base",
      "_model_module_version": "1.2.0",
      "_model_name": "LayoutModel",
      "_view_count": null,
      "_view_module": "@jupyter-widgets/base",
      "_view_module_version": "1.2.0",
      "_view_name": "LayoutView",
      "align_content": null,
      "align_items": null,
      "align_self": null,
      "border": null,
      "bottom": null,
      "display": null,
      "flex": null,
      "flex_flow": null,
      "grid_area": null,
      "grid_auto_columns": null,
      "grid_auto_flow": null,
      "grid_auto_rows": null,
      "grid_column": null,
      "grid_gap": null,
      "grid_row": null,
      "grid_template_areas": null,
      "grid_template_columns": null,
      "grid_template_rows": null,
      "height": null,
      "justify_content": null,
      "justify_items": null,
      "left": null,
      "margin": null,
      "max_height": null,
      "max_width": null,
      "min_height": null,
      "min_width": null,
      "object_fit": null,
      "object_position": null,
      "order": null,
      "overflow": null,
      "overflow_x": null,
      "overflow_y": null,
      "padding": null,
      "right": null,
      "top": null,
      "visibility": null,
      "width": null
     }
    },
    "3ac5cf98c1dd4a2a8c5cdc1152533fdb": {
     "model_module": "@jupyter-widgets/controls",
     "model_module_version": "1.5.0",
     "model_name": "DescriptionStyleModel",
     "state": {
      "_model_module": "@jupyter-widgets/controls",
      "_model_module_version": "1.5.0",
      "_model_name": "DescriptionStyleModel",
      "_view_count": null,
      "_view_module": "@jupyter-widgets/base",
      "_view_module_version": "1.2.0",
      "_view_name": "StyleView",
      "description_width": ""
     }
    },
    "41656dabb218441495243b67dd9c0e7d": {
     "model_module": "@jupyter-widgets/base",
     "model_module_version": "1.2.0",
     "model_name": "LayoutModel",
     "state": {
      "_model_module": "@jupyter-widgets/base",
      "_model_module_version": "1.2.0",
      "_model_name": "LayoutModel",
      "_view_count": null,
      "_view_module": "@jupyter-widgets/base",
      "_view_module_version": "1.2.0",
      "_view_name": "LayoutView",
      "align_content": null,
      "align_items": null,
      "align_self": null,
      "border": null,
      "bottom": null,
      "display": null,
      "flex": null,
      "flex_flow": null,
      "grid_area": null,
      "grid_auto_columns": null,
      "grid_auto_flow": null,
      "grid_auto_rows": null,
      "grid_column": null,
      "grid_gap": null,
      "grid_row": null,
      "grid_template_areas": null,
      "grid_template_columns": null,
      "grid_template_rows": null,
      "height": null,
      "justify_content": null,
      "justify_items": null,
      "left": null,
      "margin": null,
      "max_height": null,
      "max_width": null,
      "min_height": null,
      "min_width": null,
      "object_fit": null,
      "object_position": null,
      "order": null,
      "overflow": null,
      "overflow_x": null,
      "overflow_y": null,
      "padding": null,
      "right": null,
      "top": null,
      "visibility": null,
      "width": null
     }
    },
    "4d609396aeab4c398805015d0b3e8f24": {
     "model_module": "@jupyter-widgets/controls",
     "model_module_version": "1.5.0",
     "model_name": "DescriptionStyleModel",
     "state": {
      "_model_module": "@jupyter-widgets/controls",
      "_model_module_version": "1.5.0",
      "_model_name": "DescriptionStyleModel",
      "_view_count": null,
      "_view_module": "@jupyter-widgets/base",
      "_view_module_version": "1.2.0",
      "_view_name": "StyleView",
      "description_width": ""
     }
    },
    "4e07877e4dcd48d98c65226ac868f9ee": {
     "model_module": "@jupyter-widgets/base",
     "model_module_version": "1.2.0",
     "model_name": "LayoutModel",
     "state": {
      "_model_module": "@jupyter-widgets/base",
      "_model_module_version": "1.2.0",
      "_model_name": "LayoutModel",
      "_view_count": null,
      "_view_module": "@jupyter-widgets/base",
      "_view_module_version": "1.2.0",
      "_view_name": "LayoutView",
      "align_content": null,
      "align_items": null,
      "align_self": null,
      "border": null,
      "bottom": null,
      "display": null,
      "flex": null,
      "flex_flow": null,
      "grid_area": null,
      "grid_auto_columns": null,
      "grid_auto_flow": null,
      "grid_auto_rows": null,
      "grid_column": null,
      "grid_gap": null,
      "grid_row": null,
      "grid_template_areas": null,
      "grid_template_columns": null,
      "grid_template_rows": null,
      "height": null,
      "justify_content": null,
      "justify_items": null,
      "left": null,
      "margin": null,
      "max_height": null,
      "max_width": null,
      "min_height": null,
      "min_width": null,
      "object_fit": null,
      "object_position": null,
      "order": null,
      "overflow": null,
      "overflow_x": null,
      "overflow_y": null,
      "padding": null,
      "right": null,
      "top": null,
      "visibility": null,
      "width": null
     }
    },
    "83e7b0ce8fa74e72b0ddf0671fcc2744": {
     "model_module": "@jupyter-widgets/controls",
     "model_module_version": "1.5.0",
     "model_name": "HBoxModel",
     "state": {
      "_dom_classes": [],
      "_model_module": "@jupyter-widgets/controls",
      "_model_module_version": "1.5.0",
      "_model_name": "HBoxModel",
      "_view_count": null,
      "_view_module": "@jupyter-widgets/controls",
      "_view_module_version": "1.5.0",
      "_view_name": "HBoxView",
      "box_style": "",
      "children": [
       "IPY_MODEL_d0a5133621bf43f987ab938a19cf3531",
       "IPY_MODEL_07e2faafdf4e4a2d9c151fb969e9b9b6",
       "IPY_MODEL_33cb445664ce4e79a533ff94142ecb48"
      ],
      "layout": "IPY_MODEL_41656dabb218441495243b67dd9c0e7d"
     }
    },
    "96bea9b887584a9082a62662ef754a96": {
     "model_module": "@jupyter-widgets/controls",
     "model_module_version": "1.5.0",
     "model_name": "DescriptionStyleModel",
     "state": {
      "_model_module": "@jupyter-widgets/controls",
      "_model_module_version": "1.5.0",
      "_model_name": "DescriptionStyleModel",
      "_view_count": null,
      "_view_module": "@jupyter-widgets/base",
      "_view_module_version": "1.2.0",
      "_view_name": "StyleView",
      "description_width": ""
     }
    },
    "96c4e1d99b1943a399becefcf3e4d2bc": {
     "model_module": "@jupyter-widgets/base",
     "model_module_version": "1.2.0",
     "model_name": "LayoutModel",
     "state": {
      "_model_module": "@jupyter-widgets/base",
      "_model_module_version": "1.2.0",
      "_model_name": "LayoutModel",
      "_view_count": null,
      "_view_module": "@jupyter-widgets/base",
      "_view_module_version": "1.2.0",
      "_view_name": "LayoutView",
      "align_content": null,
      "align_items": null,
      "align_self": null,
      "border": null,
      "bottom": null,
      "display": null,
      "flex": null,
      "flex_flow": null,
      "grid_area": null,
      "grid_auto_columns": null,
      "grid_auto_flow": null,
      "grid_auto_rows": null,
      "grid_column": null,
      "grid_gap": null,
      "grid_row": null,
      "grid_template_areas": null,
      "grid_template_columns": null,
      "grid_template_rows": null,
      "height": null,
      "justify_content": null,
      "justify_items": null,
      "left": null,
      "margin": null,
      "max_height": null,
      "max_width": null,
      "min_height": null,
      "min_width": null,
      "object_fit": null,
      "object_position": null,
      "order": null,
      "overflow": null,
      "overflow_x": null,
      "overflow_y": null,
      "padding": null,
      "right": null,
      "top": null,
      "visibility": null,
      "width": null
     }
    },
    "9b406939f96d4f9a930460938e6cb843": {
     "model_module": "@jupyter-widgets/base",
     "model_module_version": "1.2.0",
     "model_name": "LayoutModel",
     "state": {
      "_model_module": "@jupyter-widgets/base",
      "_model_module_version": "1.2.0",
      "_model_name": "LayoutModel",
      "_view_count": null,
      "_view_module": "@jupyter-widgets/base",
      "_view_module_version": "1.2.0",
      "_view_name": "LayoutView",
      "align_content": null,
      "align_items": null,
      "align_self": null,
      "border": null,
      "bottom": null,
      "display": null,
      "flex": null,
      "flex_flow": null,
      "grid_area": null,
      "grid_auto_columns": null,
      "grid_auto_flow": null,
      "grid_auto_rows": null,
      "grid_column": null,
      "grid_gap": null,
      "grid_row": null,
      "grid_template_areas": null,
      "grid_template_columns": null,
      "grid_template_rows": null,
      "height": null,
      "justify_content": null,
      "justify_items": null,
      "left": null,
      "margin": null,
      "max_height": null,
      "max_width": null,
      "min_height": null,
      "min_width": null,
      "object_fit": null,
      "object_position": null,
      "order": null,
      "overflow": null,
      "overflow_x": null,
      "overflow_y": null,
      "padding": null,
      "right": null,
      "top": null,
      "visibility": null,
      "width": null
     }
    },
    "a2ccc12aca9d4b66b3f6b0c08de9b24d": {
     "model_module": "@jupyter-widgets/controls",
     "model_module_version": "1.5.0",
     "model_name": "ProgressStyleModel",
     "state": {
      "_model_module": "@jupyter-widgets/controls",
      "_model_module_version": "1.5.0",
      "_model_name": "ProgressStyleModel",
      "_view_count": null,
      "_view_module": "@jupyter-widgets/base",
      "_view_module_version": "1.2.0",
      "_view_name": "StyleView",
      "bar_color": null,
      "description_width": ""
     }
    },
    "bc0362ed4c6d49ca9ae109f9e0f65c06": {
     "model_module": "@jupyter-widgets/controls",
     "model_module_version": "1.5.0",
     "model_name": "FloatProgressModel",
     "state": {
      "_dom_classes": [],
      "_model_module": "@jupyter-widgets/controls",
      "_model_module_version": "1.5.0",
      "_model_name": "FloatProgressModel",
      "_view_count": null,
      "_view_module": "@jupyter-widgets/controls",
      "_view_module_version": "1.5.0",
      "_view_name": "ProgressView",
      "bar_style": "success",
      "description": "",
      "description_tooltip": null,
      "layout": "IPY_MODEL_0b220a5fc65440ac9c310869b528e968",
      "max": 714312960,
      "min": 0,
      "orientation": "horizontal",
      "style": "IPY_MODEL_f2ba81fcf8234586a68e608de1213634",
      "value": 714312960
     }
    },
    "d0a5133621bf43f987ab938a19cf3531": {
     "model_module": "@jupyter-widgets/controls",
     "model_module_version": "1.5.0",
     "model_name": "HTMLModel",
     "state": {
      "_dom_classes": [],
      "_model_module": "@jupyter-widgets/controls",
      "_model_module_version": "1.5.0",
      "_model_name": "HTMLModel",
      "_view_count": null,
      "_view_module": "@jupyter-widgets/controls",
      "_view_module_version": "1.5.0",
      "_view_name": "HTMLView",
      "description": "",
      "description_tooltip": null,
      "layout": "IPY_MODEL_e9ebba8472a34d42b92a126a0a1e93cf",
      "placeholder": "​",
      "style": "IPY_MODEL_3ac5cf98c1dd4a2a8c5cdc1152533fdb",
      "value": "Downloading: 100%"
     }
    },
    "d9876d81deb144deb7227081aedf8ee3": {
     "model_module": "@jupyter-widgets/base",
     "model_module_version": "1.2.0",
     "model_name": "LayoutModel",
     "state": {
      "_model_module": "@jupyter-widgets/base",
      "_model_module_version": "1.2.0",
      "_model_name": "LayoutModel",
      "_view_count": null,
      "_view_module": "@jupyter-widgets/base",
      "_view_module_version": "1.2.0",
      "_view_name": "LayoutView",
      "align_content": null,
      "align_items": null,
      "align_self": null,
      "border": null,
      "bottom": null,
      "display": null,
      "flex": null,
      "flex_flow": null,
      "grid_area": null,
      "grid_auto_columns": null,
      "grid_auto_flow": null,
      "grid_auto_rows": null,
      "grid_column": null,
      "grid_gap": null,
      "grid_row": null,
      "grid_template_areas": null,
      "grid_template_columns": null,
      "grid_template_rows": null,
      "height": null,
      "justify_content": null,
      "justify_items": null,
      "left": null,
      "margin": null,
      "max_height": null,
      "max_width": null,
      "min_height": null,
      "min_width": null,
      "object_fit": null,
      "object_position": null,
      "order": null,
      "overflow": null,
      "overflow_x": null,
      "overflow_y": null,
      "padding": null,
      "right": null,
      "top": null,
      "visibility": null,
      "width": null
     }
    },
    "e9ebba8472a34d42b92a126a0a1e93cf": {
     "model_module": "@jupyter-widgets/base",
     "model_module_version": "1.2.0",
     "model_name": "LayoutModel",
     "state": {
      "_model_module": "@jupyter-widgets/base",
      "_model_module_version": "1.2.0",
      "_model_name": "LayoutModel",
      "_view_count": null,
      "_view_module": "@jupyter-widgets/base",
      "_view_module_version": "1.2.0",
      "_view_name": "LayoutView",
      "align_content": null,
      "align_items": null,
      "align_self": null,
      "border": null,
      "bottom": null,
      "display": null,
      "flex": null,
      "flex_flow": null,
      "grid_area": null,
      "grid_auto_columns": null,
      "grid_auto_flow": null,
      "grid_auto_rows": null,
      "grid_column": null,
      "grid_gap": null,
      "grid_row": null,
      "grid_template_areas": null,
      "grid_template_columns": null,
      "grid_template_rows": null,
      "height": null,
      "justify_content": null,
      "justify_items": null,
      "left": null,
      "margin": null,
      "max_height": null,
      "max_width": null,
      "min_height": null,
      "min_width": null,
      "object_fit": null,
      "object_position": null,
      "order": null,
      "overflow": null,
      "overflow_x": null,
      "overflow_y": null,
      "padding": null,
      "right": null,
      "top": null,
      "visibility": null,
      "width": null
     }
    },
    "f2ba81fcf8234586a68e608de1213634": {
     "model_module": "@jupyter-widgets/controls",
     "model_module_version": "1.5.0",
     "model_name": "ProgressStyleModel",
     "state": {
      "_model_module": "@jupyter-widgets/controls",
      "_model_module_version": "1.5.0",
      "_model_name": "ProgressStyleModel",
      "_view_count": null,
      "_view_module": "@jupyter-widgets/base",
      "_view_module_version": "1.2.0",
      "_view_name": "StyleView",
      "bar_color": null,
      "description_width": ""
     }
    }
   }
  }
 },
 "nbformat": 4,
 "nbformat_minor": 1
}
