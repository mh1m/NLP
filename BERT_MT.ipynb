{
 "cells": [
  {
   "cell_type": "code",
   "execution_count": 1,
   "id": "79288e9e",
   "metadata": {
    "id": "5db35d05"
   },
   "outputs": [],
   "source": [
    "import numpy as np\n",
    "import torch\n",
    "import torch.nn as nn\n",
    "from torch.optim import Adam"
   ]
  },
  {
   "cell_type": "code",
   "execution_count": 2,
   "id": "4e45c40e",
   "metadata": {
    "id": "c4bc7518"
   },
   "outputs": [],
   "source": [
    "import pandas as pd\n",
    "\n",
    "train_dataset = pd.read_csv('train.csv').values\n",
    "test_dataset = pd.read_csv('test.csv')"
   ]
  },
  {
   "cell_type": "code",
   "execution_count": 3,
   "id": "451355cb",
   "metadata": {
    "id": "76a5c735"
   },
   "outputs": [
    {
     "data": {
      "text/plain": [
       "40"
      ]
     },
     "execution_count": 3,
     "metadata": {},
     "output_type": "execute_result"
    }
   ],
   "source": [
    "MAX_LENGTH = max(map(lambda x: len(x[0]), train_dataset)) + 1\n",
    "\n",
    "MAX_LENGTH"
   ]
  },
  {
   "cell_type": "code",
   "execution_count": 4,
   "id": "c6a2271f",
   "metadata": {
    "id": "556ae6af"
   },
   "outputs": [],
   "source": [
    "SOS_token = 0\n",
    "EOS_token = 1\n",
    "\n",
    "\n",
    "class Lang:\n",
    "\n",
    "    def __init__(self, name):\n",
    "        self.name = name\n",
    "        self.word2index = {\n",
    "            'SOS': 0,\n",
    "            'EOS': 1\n",
    "        }\n",
    "        self.index2word = {\n",
    "            0: 'SOS',\n",
    "            1: 'EOS'\n",
    "        }\n",
    "\n",
    "    @property\n",
    "    def n_words(self) -> int:\n",
    "        return len(self.index2word)\n",
    "\n",
    "    def add_sentence(self, sentence):\n",
    "        for word in list(sentence):\n",
    "            self.add_word(word)\n",
    "\n",
    "    def add_word(self, word):\n",
    "        if word not in self.word2index:\n",
    "            self.word2index[word] = self.n_words\n",
    "            self.index2word[self.n_words] = word"
   ]
  },
  {
   "cell_type": "code",
   "execution_count": 5,
   "id": "bc581fc1",
   "metadata": {
    "id": "74410a56"
   },
   "outputs": [
    {
     "name": "stdout",
     "output_type": "stream",
     "text": [
      "human 82\n",
      "iso 13\n"
     ]
    }
   ],
   "source": [
    "input_lang = Lang('human')\n",
    "output_lang = Lang('iso')\n",
    "\n",
    "for pair in train_dataset:\n",
    "    input_lang.add_sentence(pair[0])\n",
    "    output_lang.add_sentence(pair[1])\n",
    "\n",
    "print(input_lang.name, input_lang.n_words)\n",
    "print(output_lang.name, output_lang.n_words)"
   ]
  },
  {
   "cell_type": "code",
   "execution_count": 6,
   "id": "1e013a51",
   "metadata": {
    "id": "b5e4f21a"
   },
   "outputs": [],
   "source": [
    "device = torch.device('cuda' if torch.cuda.is_available() else 'cpu')"
   ]
  },
  {
   "cell_type": "code",
   "execution_count": 7,
   "id": "8ebdf7cb",
   "metadata": {
    "id": "8fe0f376"
   },
   "outputs": [],
   "source": [
    "class Encoder(nn.Module):\n",
    "\n",
    "    def __init__(self, input_size, hidden_size):\n",
    "        super().__init__()\n",
    "        self.hidden_size = hidden_size\n",
    "\n",
    "        self.embedding = nn.Embedding(input_size, hidden_size)\n",
    "        self.gru = nn.GRU(hidden_size, hidden_size)\n",
    "\n",
    "    def forward(self, x, hidden):\n",
    "        embedded = self.embedding(x).view(1, 1, -1)\n",
    "        output = embedded\n",
    "        output, hidden = self.gru(output, hidden)\n",
    "        return output, hidden\n",
    "\n",
    "    def init_hidden(self):\n",
    "        return torch.zeros(1, 1, self.hidden_size, device=device)"
   ]
  },
  {
   "cell_type": "code",
   "execution_count": 8,
   "id": "06738004",
   "metadata": {
    "id": "42832f9b"
   },
   "outputs": [],
   "source": [
    "class Decoder(nn.Module):\n",
    "\n",
    "    def __init__(self, hidden_size, output_size):\n",
    "        super().__init__()\n",
    "        self.hidden_size = hidden_size\n",
    "\n",
    "        self.embedding = nn.Embedding(output_size, hidden_size)\n",
    "        self.gru = nn.GRU(hidden_size, hidden_size)\n",
    "        self.out = nn.Linear(hidden_size, output_size)\n",
    "        self.relu = nn.ReLU()\n",
    "        self.softmax = nn.LogSoftmax(dim=1)\n",
    "\n",
    "    def forward(self, x, hidden):\n",
    "        output = self.embedding(x).view(1, 1, -1)\n",
    "        output = self.relu(output)\n",
    "        output, hidden = self.gru(output, hidden)\n",
    "        output = self.softmax(self.out(output[0]))\n",
    "        return output, hidden\n",
    "\n",
    "    def init_hidden(self):\n",
    "        return torch.zeros(1, 1, self.hidden_size, device=device)"
   ]
  },
  {
   "cell_type": "code",
   "execution_count": 9,
   "id": "605d8605",
   "metadata": {
    "id": "d3308116"
   },
   "outputs": [],
   "source": [
    "def sentence2idx(lang, sentence):\n",
    "    return [lang.word2index[word] for word in list(sentence)]\n",
    "\n",
    "\n",
    "def sentence2tensor(lang, sentence):\n",
    "    indexes = sentence2idx(lang, sentence)\n",
    "    indexes.append(EOS_token)\n",
    "    return torch.tensor(indexes, dtype=torch.long, device=device).view(-1, 1)\n",
    "\n",
    "\n",
    "def pair2tensor(x):\n",
    "    input_tensor = sentence2tensor(input_lang, x[0])\n",
    "    target_tensor = sentence2tensor(output_lang, x[1])\n",
    "    return input_tensor, target_tensor"
   ]
  },
  {
   "cell_type": "code",
   "execution_count": 10,
   "id": "291fc24a",
   "metadata": {
    "id": "2ff20461"
   },
   "outputs": [],
   "source": [
    "teacher_forcing_ratio = 0.5\n",
    "\n",
    "\n",
    "def train_single(\n",
    "        input_tensor, target_tensor,\n",
    "        encoder, decoder,\n",
    "        encoder_optimizer, decoder_optimizer,\n",
    "        criterion\n",
    "):\n",
    "    encoder_optimizer.zero_grad()\n",
    "    decoder_optimizer.zero_grad()\n",
    "\n",
    "    loss = 0\n",
    "\n",
    "    encoder_hidden = encoder.init_hidden()\n",
    "\n",
    "    for elem in input_tensor:\n",
    "        encoder_output, encoder_hidden = encoder(elem, encoder_hidden)\n",
    "\n",
    "    decoder_input = torch.tensor([[SOS_token]], device=device)\n",
    "\n",
    "    decoder_hidden = encoder_hidden\n",
    "\n",
    "    use_teacher_forcing = True if np.random.random() < teacher_forcing_ratio else False\n",
    "\n",
    "    if use_teacher_forcing:\n",
    "        for elem in target_tensor:\n",
    "            decoder_output, decoder_hidden = decoder(decoder_input, decoder_hidden)\n",
    "            loss += criterion(decoder_output, elem)\n",
    "            decoder_input = elem\n",
    "    else:\n",
    "        for elem in target_tensor:\n",
    "            decoder_output, decoder_hidden = decoder(decoder_input, decoder_hidden)\n",
    "            _, topi = decoder_output.data.topk(1)\n",
    "            decoder_input = topi.squeeze().detach()\n",
    "\n",
    "            loss += criterion(decoder_output, elem)\n",
    "            if decoder_input.item() == EOS_token:\n",
    "                break\n",
    "\n",
    "    loss.backward()\n",
    "\n",
    "    encoder_optimizer.step()\n",
    "    decoder_optimizer.step()\n",
    "\n",
    "    return loss.item() / len(target_tensor)"
   ]
  },
  {
   "cell_type": "code",
   "execution_count": 11,
   "id": "b3672406",
   "metadata": {},
   "outputs": [],
   "source": [
    "import matplotlib.pyplot as plt\n",
    "\n",
    "def showPlot(points):\n",
    "    plt.figure()\n",
    "    fig, ax = plt.subplots()\n",
    "    plt.plot(points)\n",
    "    plt.grid()\n",
    "    plt.ylabel('loss')\n",
    "    plt.show()"
   ]
  },
  {
   "cell_type": "code",
   "execution_count": 12,
   "id": "f8083571",
   "metadata": {
    "id": "99270fd7"
   },
   "outputs": [],
   "source": [
    "def train(encoder, decoder, n_epochs=5, print_every=100, l_rate=1e-3):\n",
    "    plot_every = print_every\n",
    "    encoder.train()\n",
    "    decoder.train()\n",
    "\n",
    "    encoder_optimizer = Adam(encoder.parameters(), lr=l_rate)\n",
    "    decoder_optimizer = Adam(decoder.parameters(), lr=l_rate)\n",
    "\n",
    "    criterion = nn.NLLLoss()\n",
    "    \n",
    "    plot_losses = []\n",
    "\n",
    "    for epoch in range(n_epochs):\n",
    "        print_loss_total, plot_loss_total = 0, 0\n",
    "        loss_count = 0\n",
    "        \n",
    "        print(f'Epoch [{epoch + 1:02d}/{n_epochs:02d}]')\n",
    "        training_pairs = [\n",
    "            pair2tensor(x) for x in train_dataset[np.random.randint(len(train_dataset), size=len(train_dataset))]\n",
    "        ]\n",
    "\n",
    "        for i, training_pair in enumerate(training_pairs):\n",
    "            input_tensor = training_pair[0]\n",
    "            target_tensor = training_pair[1]\n",
    "\n",
    "            loss = train_single(\n",
    "                input_tensor, target_tensor,\n",
    "                encoder, decoder,\n",
    "                encoder_optimizer, decoder_optimizer,\n",
    "                criterion\n",
    "            )\n",
    "#             print_loss_total += loss\n",
    "            plot_loss_total += loss\n",
    "            loss_count += 1\n",
    "#             if (i + 1) % print_every == 0:\n",
    "#                 print_loss_avg = print_loss_total / print_every\n",
    "#                 print_loss_total = 0\n",
    "#                 print(f'Training ({i / len(training_pairs) * 100:.1f}%) loss: {print_loss_avg:.4f}')\n",
    "                \n",
    "        plot_loss_avg = plot_loss_total / loss_count\n",
    "        plot_losses.append(plot_loss_avg)\n",
    "        plot_loss_total, loss_count = 0, 0\n",
    "                \n",
    "    showPlot(plot_losses)"
   ]
  },
  {
   "cell_type": "code",
   "execution_count": 13,
   "id": "82c764cb",
   "metadata": {},
   "outputs": [],
   "source": [
    "N_EPOCHS = 30\n",
    "hidden_size = 128"
   ]
  },
  {
   "cell_type": "code",
   "execution_count": 14,
   "id": "8008c2e0",
   "metadata": {
    "id": "0c3f5df8",
    "scrolled": false
   },
   "outputs": [
    {
     "name": "stdout",
     "output_type": "stream",
     "text": [
      "Epoch [01/30]\n",
      "Epoch [02/30]\n",
      "Epoch [03/30]\n",
      "Epoch [04/30]\n",
      "Epoch [05/30]\n",
      "Epoch [06/30]\n",
      "Epoch [07/30]\n",
      "Epoch [08/30]\n",
      "Epoch [09/30]\n",
      "Epoch [10/30]\n",
      "Epoch [11/30]\n",
      "Epoch [12/30]\n",
      "Epoch [13/30]\n",
      "Epoch [14/30]\n",
      "Epoch [15/30]\n",
      "Epoch [16/30]\n",
      "Epoch [17/30]\n",
      "Epoch [18/30]\n",
      "Epoch [19/30]\n",
      "Epoch [20/30]\n",
      "Epoch [21/30]\n",
      "Epoch [22/30]\n",
      "Epoch [23/30]\n",
      "Epoch [24/30]\n",
      "Epoch [25/30]\n",
      "Epoch [26/30]\n",
      "Epoch [27/30]\n",
      "Epoch [28/30]\n",
      "Epoch [29/30]\n",
      "Epoch [30/30]\n"
     ]
    },
    {
     "data": {
      "text/plain": [
       "<Figure size 432x288 with 0 Axes>"
      ]
     },
     "metadata": {},
     "output_type": "display_data"
    },
    {
     "data": {
      "image/png": "[encoded data removed]",
      "text/plain": [
       "<Figure size 432x288 with 1 Axes>"
      ]
     },
     "metadata": {
      "needs_background": "light"
     },
     "output_type": "display_data"
    }
   ],
   "source": [
    "encoder_model = Encoder(input_lang.n_words, hidden_size).to(device)\n",
    "decoder_model = Decoder(hidden_size, output_lang.n_words).to(device)\n",
    "\n",
    "train(encoder_model, decoder_model, n_epochs=N_EPOCHS)"
   ]
  },
  {
   "cell_type": "code",
   "execution_count": 19,
   "id": "96368917",
   "metadata": {
    "id": "8e2c44d0"
   },
   "outputs": [],
   "source": [
    "@torch.no_grad()\n",
    "def evaluate(encoder, decoder, sentence, max_length=MAX_LENGTH):\n",
    "    encoder.eval()\n",
    "    decoder.eval()\n",
    "\n",
    "    input_tensor = sentence2tensor(input_lang, sentence)\n",
    "    encoder_hidden = encoder.init_hidden()\n",
    "\n",
    "    for elem in input_tensor:\n",
    "        encoder_output, encoder_hidden = encoder(elem, encoder_hidden)\n",
    "\n",
    "    decoder_input = torch.tensor([[SOS_token]], device=device)\n",
    "\n",
    "    decoder_hidden = encoder_hidden\n",
    "\n",
    "    decoded_words = []\n",
    "\n",
    "    for di in range(max_length):\n",
    "        decoder_output, decoder_hidden = decoder(decoder_input, decoder_hidden)\n",
    "        _, topi = decoder_output.data.topk(1)\n",
    "\n",
    "        decoded_words.append(output_lang.index2word[topi.item()])\n",
    "\n",
    "        if topi.item() == EOS_token:\n",
    "            break\n",
    "\n",
    "        decoder_input = topi.squeeze().detach()\n",
    "\n",
    "    return decoded_words\n",
    "\n",
    "\n",
    "def predict_(encoder, decoder, dataset):\n",
    "    result = []\n",
    "\n",
    "    for _ in dataset:\n",
    "        result.append(evaluate(encoder, decoder, _)[:10])\n",
    "\n",
    "    return result"
   ]
  },
  {
   "cell_type": "code",
   "execution_count": 16,
   "id": "b7323e32",
   "metadata": {
    "id": "b5e06197"
   },
   "outputs": [],
   "source": [
    "test_prediction = predict_(encoder_model, decoder_model, test_dataset['data'])"
   ]
  },
  {
   "cell_type": "code",
   "execution_count": 17,
   "id": "3242a2cc",
   "metadata": {
    "id": "936f704c"
   },
   "outputs": [],
   "source": [
    "test_dataset['label'] = [''.join(x) for x in test_prediction]"
   ]
  },
  {
   "cell_type": "code",
   "execution_count": 18,
   "id": "f012c909",
   "metadata": {
    "id": "7467be43"
   },
   "outputs": [],
   "source": [
    "test_dataset[['id', 'label']].to_csv('submission.csv', index=None)"
   ]
  }
 ],
 "metadata": {
  "colab": {
   "name": "weak_public.ipynb",
   "provenance": []
  },
  "kernelspec": {
   "display_name": "Python 3 (ipykernel)",
   "language": "python",
   "name": "python3"
  },
  "language_info": {
   "codemirror_mode": {
    "name": "ipython",
    "version": 3
   },
   "file_extension": ".py",
   "mimetype": "text/x-python",
   "name": "python",
   "nbconvert_exporter": "python",
   "pygments_lexer": "ipython3",
   "version": "3.9.7"
  }
 },
 "nbformat": 4,
 "nbformat_minor": 5
}
