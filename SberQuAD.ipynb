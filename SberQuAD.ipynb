{
 "cells": [
  {
   "cell_type": "code",
   "execution_count": null,
   "metadata": {
    "colab": {
     "base_uri": "https://localhost:8080/"
    },
    "id": "M-H72Y0OWRBB",
    "outputId": "df47d85a-ddc4-46da-dd42-8702742dd30b",
    "scrolled": true
   },
   "outputs": [],
   "source": [
    "!pip install deeppavlov"
   ]
  },
  {
   "cell_type": "code",
   "execution_count": null,
   "metadata": {
    "colab": {
     "base_uri": "https://localhost:8080/"
    },
    "id": "oUFVRNrUWoFW",
    "outputId": "379cc3da-67d6-4991-e010-529a83142318",
    "scrolled": true
   },
   "outputs": [],
   "source": [
    "!python -m deeppavlov install squad_ru_torch_bert"
   ]
  },
  {
   "cell_type": "code",
   "execution_count": null,
   "metadata": {
    "colab": {
     "base_uri": "https://localhost:8080/"
    },
    "id": "EuXSvtw8gsBL",
    "outputId": "af637e8f-36fb-4c01-c63e-a74338876cf8"
   },
   "outputs": [],
   "source": [
    "import torch \n",
    "\n",
    "device = torch.device(\"cuda:0\" if torch.cuda.is_available() else \"cpu\")\n",
    "print(device)"
   ]
  },
  {
   "cell_type": "code",
   "execution_count": null,
   "metadata": {
    "colab": {
     "base_uri": "https://localhost:8080/"
    },
    "id": "OvHFek8hW62v",
    "outputId": "8a87e5c4-b66f-411b-e9b0-eb46188636ad"
   },
   "outputs": [],
   "source": [
    "from deeppavlov import build_model, configs\n",
    "model_qa = build_model(configs.squad.squad_ru_torch_bert, download=True)"
   ]
  },
  {
   "cell_type": "code",
   "execution_count": null,
   "metadata": {
    "colab": {
     "base_uri": "https://localhost:8080/"
    },
    "id": "51W6I0KuW7CL",
    "outputId": "06c666a1-c7b9-44f1-9677-8fa2eca9bf65"
   },
   "outputs": [],
   "source": [
    "import json\n",
    "data = json.load(open('sbersquad_test_data_to_solve.json'))"
   ]
  },
  {
   "cell_type": "code",
   "execution_count": null,
   "metadata": {
    "colab": {
     "base_uri": "https://localhost:8080/"
    },
    "id": "PEbqvU0NiH0x",
    "outputId": "46ea00d5-b7ee-4c35-e08c-ed7f7ae33509"
   },
   "outputs": [],
   "source": [
    "for paragraph in data['paragraphs']:\n",
    "    context = paragraph['context']\n",
    "    for ques_ans in paragraph['qas']:\n",
    "        question = ques_ans['question']\n",
    "        model_ans = model_qa([context], [question])\n",
    "        answer_text = model_ans[0]\n",
    "        answer_start_pos = model_ans[1]\n",
    "        ques_ans['answers'][0]['text'] = answer_text\n",
    "        ques_ans['answers'][0]['answer_start'] = answer_start_pos"
   ]
  },
  {
   "cell_type": "code",
   "execution_count": null,
   "metadata": {
    "id": "S58DN8JrvvbG"
   },
   "outputs": [],
   "source": [
    "with open('answers_new.json','w', encoding='utf8') as f:\n",
    "    json.dump(data, f, ensure_ascii=False, indent=4)"
   ]
  },
  {
   "cell_type": "code",
   "execution_count": null,
   "metadata": {},
   "outputs": [],
   "source": []
  }
 ],
 "metadata": {
  "accelerator": "GPU",
  "colab": {
   "collapsed_sections": [],
   "name": "SberQuAD_Seleznev.ipynb",
   "provenance": []
  },
  "kernelspec": {
   "display_name": "Python 3 (ipykernel)",
   "language": "python",
   "name": "python3"
  },
  "language_info": {
   "codemirror_mode": {
    "name": "ipython",
    "version": 3
   },
   "file_extension": ".py",
   "mimetype": "text/x-python",
   "name": "python",
   "nbconvert_exporter": "python",
   "pygments_lexer": "ipython3",
   "version": "3.9.7"
  },
  "toc": {
   "base_numbering": 1,
   "nav_menu": {},
   "number_sections": true,
   "sideBar": true,
   "skip_h1_title": false,
   "title_cell": "Table of Contents",
   "title_sidebar": "Contents",
   "toc_cell": false,
   "toc_position": {},
   "toc_section_display": true,
   "toc_window_display": false
  },
  "varInspector": {
   "cols": {
    "lenName": 16,
    "lenType": 16,
    "lenVar": 40
   },
   "kernels_config": {
    "python": {
     "delete_cmd_postfix": "",
     "delete_cmd_prefix": "del ",
     "library": "var_list.py",
     "varRefreshCmd": "print(var_dic_list())"
    },
    "r": {
     "delete_cmd_postfix": ") ",
     "delete_cmd_prefix": "rm(",
     "library": "var_list.r",
     "varRefreshCmd": "cat(var_dic_list()) "
    }
   },
   "types_to_exclude": [
    "module",
    "function",
    "builtin_function_or_method",
    "instance",
    "_Feature"
   ],
   "window_display": false
  }
 },
 "nbformat": 4,
 "nbformat_minor": 1
}
